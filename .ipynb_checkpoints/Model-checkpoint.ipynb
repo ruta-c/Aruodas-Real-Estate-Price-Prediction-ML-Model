{
 "cells": [
  {
   "cell_type": "code",
   "execution_count": 41,
   "metadata": {},
   "outputs": [
    {
     "name": "stdout",
     "output_type": "stream",
     "text": [
      "   Unnamed: 0   price   area  rooms  floor  floors  looked_by   latitude  \\\n",
      "1           1   39000  18.00      1      4       5         25  54.659729   \n",
      "3           3  132000  47.31      2      1       9         22  54.666815   \n",
      "4           4  169000  55.00      2      1       5         73  54.681272   \n",
      "5           5   69999  35.52      2      1       3         48  54.702982   \n",
      "6           6   95000  45.51      2      3       5        157  54.726685   \n",
      "\n",
      "   longitude  saved  ...  nauja kanalizacija  renovuotas namas  \\\n",
      "1  25.272295      3  ...                   1                 0   \n",
      "3  25.211018      1  ...                   0                 0   \n",
      "4  25.271595      0  ...                   0                 0   \n",
      "5  25.197330    174  ...                   1                 0   \n",
      "6  25.298658      8  ...                   0                 0   \n",
      "\n",
      "   tualetas ir vonia atskirai  uždaras kiemas  virtuvė sujungta su kambariu  \\\n",
      "1                           0               0                             1   \n",
      "3                           0               0                             0   \n",
      "4                           0               0                             0   \n",
      "5                           0               0                             1   \n",
      "6                           0               0                             0   \n",
      "\n",
      "   price_sqm_log  building_age  building_age_reno                lat_long  \\\n",
      "1       7.680945            53                 53  (54.659729, 25.272295)   \n",
      "3       7.933836            14                 14  (54.666815, 25.211018)   \n",
      "4       8.030321            83                 83  (54.681272, 25.271595)   \n",
      "5       7.586140            55                 55   (54.702982, 25.19733)   \n",
      "6       7.643700            56                  0  (54.726685, 25.298658)   \n",
      "\n",
      "   distance_to_center  \n",
      "1            3.295341  \n",
      "3            4.586196  \n",
      "4            0.899982  \n",
      "5            4.956347  \n",
      "6            4.521572  \n",
      "\n",
      "[5 rows x 75 columns]\n"
     ]
    }
   ],
   "source": [
    "import pandas as pd\n",
    "import matplotlib.pyplot as plt\n",
    "import numpy as np\n",
    "import sklearn\n",
    "from haversine import haversine\n",
    "from sklearn.model_selection import train_test_split\n",
    "from sklearn.linear_model import LogisticRegression\n",
    "from sklearn.metrics import accuracy_score, classification_report, confusion_matrix\n",
    "\n",
    "\n",
    "flats_df = pd.read_csv(\"flats.csv\")\n",
    "flats_df.columns\n",
    "# Remove extreme outliers\n",
    "filtered_df = flats_df[(flats_df[\"price_sqm\"] <= 9100) & (flats_df[\"price_sqm\"] >= 525)].copy()\n",
    "columns_drop = [\"Namo numeris:\", \"year\", \"heating\", \"extra_rooms\", \"Papildoma įranga:\", \"security\", \"link\", \"posted\", \"edited\", \"Aktyvus iki\", \"properties\", \"Buto numeris:\", \"Unikalus daikto numeris (RC numeris):\", \"aukcionas\"]\n",
    "filtered_df = filtered_df.drop(columns=columns_drop)\n",
    "filtered_df = filtered_df.dropna()\n",
    "\n",
    "# Normalizing using log\n",
    "filtered_df[\"price_sqm_log\"] = np.log(filtered_df[\"price_sqm\"])\n",
    "\n",
    "# Contruction/renovation year modification into age\n",
    "filtered_df[\"building_age\"] = 2023 - filtered_df[\"construction_year\"]\n",
    "filtered_df[\"building_age_reno\"] = 2023 - filtered_df[\"renovation_year\"]\n",
    "\n",
    "# Using latitude and longitude to calculate distance to Vilnius center (54.68935143850194, 25.270763607406778)\n",
    "filtered_df[\"lat_long\"] = list(zip(filtered_df[\"latitude\"], filtered_df[\"longitude\"]))\n",
    "vilnius_center = (54.68935143850194, 25.270763607406778)\n",
    "def calculate_distance_to_center(row):\n",
    "    return haversine(row[\"lat_long\"], vilnius_center)\n",
    "\n",
    "filtered_df[\"distance_to_center\"] = filtered_df.apply(calculate_distance_to_center, axis=1)\n",
    "\n",
    "\n",
    "print(filtered_df.head())"
   ]
  },
  {
   "cell_type": "code",
   "execution_count": 27,
   "metadata": {},
   "outputs": [
    {
     "data": {
      "text/plain": [
       "(array([ 1.,  0.,  0.,  0.,  0.,  0.,  0.,  0.,  0.,  0.,  0.,  0.,  0.,\n",
       "         0.,  0.,  0.,  0.,  0.,  0.,  0.,  0.,  0.,  0.,  0.,  0.,  0.,\n",
       "         0.,  0.,  0.,  0.,  0.,  0.,  0.,  0.,  0.,  0.,  0.,  0.,  0.,\n",
       "         0.,  0.,  0.,  0.,  0.,  0.,  0.,  0.,  0.,  0.,  0.,  0.,  0.,\n",
       "         0.,  0.,  0.,  0.,  0.,  0.,  0.,  0.,  0.,  0.,  1.,  0.,  0.,\n",
       "         0.,  0.,  0.,  0.,  0.,  0.,  0.,  1.,  0.,  1.,  0.,  0.,  0.,\n",
       "         0.,  0.,  0.,  0.,  1.,  0.,  0.,  1.,  0.,  0.,  0.,  0.,  0.,\n",
       "         0.,  0.,  0.,  0.,  0.,  0.,  0.,  0.,  0.,  0.,  0.,  0.,  0.,\n",
       "         0.,  0.,  0.,  0.,  0.,  0.,  0.,  0.,  0.,  0.,  0.,  0.,  0.,\n",
       "         0.,  0.,  0.,  0.,  1.,  0.,  0.,  1.,  0.,  0.,  0.,  0.,  0.,\n",
       "         0.,  0.,  0.,  0.,  1.,  1.,  0.,  0.,  1.,  0.,  0.,  0.,  0.,\n",
       "         0.,  0.,  0.,  0.,  0.,  6.,  2.,  1.,  0.,  0.,  0.,  1.,  0.,\n",
       "         0.,  0.,  0.,  0.,  6.,  0.,  0.,  0.,  0.,  0.,  0.,  0.,  0.,\n",
       "         0.,  1.,  0.,  0.,  0.,  1.,  0.,  0.,  0.,  1.,  0.,  0.,  0.,\n",
       "         0.,  0.,  0.,  1.,  0.,  1.,  0.,  0.,  0.,  0.,  0.,  1.,  0.,\n",
       "         0.,  0.,  0.,  7.,  0.,  1.,  0.,  1.,  0.,  0.,  0.,  0.,  0.,\n",
       "         0.,  0.,  0.,  0.,  0.,  0.,  0.,  0.,  0.,  0.,  0.,  0.,  0.,\n",
       "         0.,  0.,  0.,  0.,  0.,  0.,  1.,  0.,  0.,  0.,  0.,  0.,  0.,\n",
       "         0.,  1.,  0.,  1.,  0.,  0.,  0.,  0.,  0.,  0.,  0.,  0.,  0.,\n",
       "         1.,  0.,  0.,  1.,  0.,  0.,  1.,  6.,  0.,  1.,  0.,  0.,  0.,\n",
       "         0.,  0.,  0.,  0.,  6.,  0.,  1.,  1.,  0.,  0.,  0.,  0.,  0.,\n",
       "         0.,  0.,  0.,  0.,  0.,  1.,  0.,  0.,  0.,  0.,  1.,  0.,  0.,\n",
       "         0.,  1.,  0.,  1.,  0.,  0.,  1.,  0.,  0.,  0.,  0.,  0.,  1.,\n",
       "         0.,  1.,  0.,  0.,  0.,  0.,  0.,  0.,  0.,  0.,  0.,  1.,  0.,\n",
       "         1.,  0.,  9.,  0.,  0.,  0.,  1.,  1.,  0.,  0.,  0.,  0.,  1.,\n",
       "         0.,  3.,  1.,  1.,  1.,  0.,  0.,  2.,  0.,  0.,  6.,  1.,  0.,\n",
       "         2.,  0.,  0.,  1.,  7.,  1.,  0.,  0.,  0.,  0.,  0.,  0.,  1.,\n",
       "         3.,  2.,  1.,  0.,  2.,  1.,  2.,  1.,  1.,  1.,  0.,  3.,  0.,\n",
       "         3.,  0.,  0.,  2.,  1.,  2.,  2.,  1.,  0.,  0.,  1.,  1.,  3.,\n",
       "         1.,  2.,  0.,  1.,  1.,  1.,  1.,  2.,  1.,  2.,  0.,  3.,  3.,\n",
       "         1.,  3.,  0.,  6.,  1.,  5.,  1.,  1.,  2.,  2.,  1.,  3.,  2.,\n",
       "         3.,  2.,  0.,  3.,  3.,  1.,  2.,  6.,  1.,  4.,  2.,  3.,  2.,\n",
       "         6.,  3.,  5.,  1.,  3.,  2.,  4.,  1.,  4.,  6.,  1.,  3.,  2.,\n",
       "         1.,  2.,  3.,  3.,  3.,  3.,  8.,  3.,  5.,  2.,  2.,  6.,  2.,\n",
       "         4.,  3.,  5.,  6., 10.,  4.,  4.,  4.,  4.,  3.,  3.,  3.,  5.,\n",
       "         4.,  4.,  5.,  6.,  7.,  6.,  9.,  7., 12., 10.,  6.,  4.,  6.,\n",
       "         5.,  5.,  4., 10.,  4.,  0.,  3.,  7.,  8.,  6.,  2.,  6.,  8.,\n",
       "         8., 11.,  5.,  9.,  5.,  5.,  3.,  6.,  5.,  7.,  7., 10., 14.,\n",
       "         6.,  2.,  5.,  4.,  3.,  1.,  7.,  4.,  4.,  6.,  5., 12.,  4.,\n",
       "         5.,  8.,  6.,  8.,  9.,  7.,  5., 10., 13.,  9.,  5.,  8.,  6.,\n",
       "         6.,  8.,  6.,  7.,  6.,  6., 11.,  3.,  7.,  7.,  4.,  8.,  4.,\n",
       "         4.,  5., 10., 11.,  4.,  7.,  9.,  4.,  8.,  3.,  4.,  4.,  5.,\n",
       "         1.,  6., 10.,  4., 23.,  6.,  1.,  5.,  6.,  8.,  7.,  9.,  8.,\n",
       "         4.,  3.,  4., 12.,  7.,  8.,  4., 10.,  8.,  6., 16.,  4., 10.,\n",
       "        10.,  4.,  4.,  9., 10.,  4.,  7.,  6.,  9.,  3.,  4.,  7.,  4.,\n",
       "         7.,  8.,  9.,  3.,  6.,  5.,  3.,  7.,  3.,  9.,  7.,  3.,  5.,\n",
       "         8.,  6.,  6., 10.,  8.,  5.,  5.,  4., 12.,  5.,  5.,  5.,  6.,\n",
       "        10.,  6.,  8., 30.,  8.,  5.,  6.,  5.,  7.,  6.,  7.,  5.,  8.,\n",
       "         8.,  8.,  7.,  4.,  4.,  5.,  6.,  6.,  5.,  6.,  4.,  4.,  6.,\n",
       "         5., 10., 14.,  6.,  4.,  8.,  6., 10.,  4., 11.,  5.,  3.,  5.,\n",
       "         4.,  6., 12.,  5.,  7.,  8.,  7., 12., 13.,  9.,  2.,  6.,  5.,\n",
       "         7.,  2.,  8.,  5.,  4.,  4., 15.,  8.,  7.,  5.,  1.,  4., 11.,\n",
       "         5.,  8.,  6.,  7.,  4.,  6.,  7.,  7.,  7.,  5.,  5.,  9., 11.,\n",
       "         6.,  8.,  8.,  5.,  9.,  5.,  2.,  8.,  4.,  6.,  5., 11., 10.,\n",
       "         4.,  7.,  2.,  7.,  3.,  8.,  4., 12.,  4.,  6.,  7.,  8., 10.,\n",
       "         9., 10.,  5.,  3.,  6.,  3.,  5.,  4.,  6.,  6., 10.,  4.,  5.,\n",
       "         6.,  9.,  8.,  3., 10.,  6.,  3.,  4.,  4.,  5.,  1.,  2.,  3.,\n",
       "         9.,  4.,  8., 10.,  4.,  6.,  4.,  8.,  8.,  3.,  1.,  4.,  4.,\n",
       "         7.,  3.,  4.,  9.,  1.,  5.,  4.,  5.,  2.,  4.,  5.,  5.,  3.,\n",
       "         2.,  6.,  9.,  3.,  2.,  2.,  3.,  3.,  2.,  4.,  2.,  5.,  4.,\n",
       "         4.,  2.,  3.,  7.,  1.,  2.,  3.,  2.,  4.,  4.,  0.,  1.,  2.,\n",
       "         3.,  2., 17.,  1.,  1.,  4.,  4.,  2.,  6.,  5.,  2.,  2.,  1.,\n",
       "         3.,  2.,  0.,  2.,  5.,  1.,  4.,  1.,  1.,  2.,  2.,  2.,  4.,\n",
       "         2.,  0.,  0.,  2.,  2.,  0.,  3.,  1.,  1.,  2.,  3.,  2.,  0.,\n",
       "         6.,  1.,  2.,  1.,  7.,  2.,  2.,  4.,  0.,  1.,  1.,  1.,  2.,\n",
       "         1.,  0.,  1.,  0.,  1.,  2.,  2.,  5.,  1.,  1.,  2.,  1.,  2.,\n",
       "         5., 27.,  0.,  0.,  0.,  0.,  2.,  2.,  0.,  0.,  3.,  1.,  1.,\n",
       "         2.,  4.,  0.,  2.,  2.,  0.,  1.,  0.,  1.,  0.,  1.,  2.,  0.,\n",
       "         1.,  0.,  0.,  2.,  3.,  2.,  1.,  0.,  0.,  1.,  4.,  1.,  1.,\n",
       "         0.,  1.,  1.,  2.,  1.,  2.,  2.,  0.,  0.,  1.,  0.,  3.,  0.,\n",
       "         0.,  0.,  2., 13.,  0.,  1.,  2.,  1.,  0.,  0.,  0.,  1.,  0.,\n",
       "         0.,  0.,  0.,  2.,  0.,  0.,  1.,  0.,  0.,  0.,  0.,  0.,  1.,\n",
       "         0.,  0.,  5.,  1.,  0.,  0.,  0.,  3.,  1.,  0.,  0.,  1.,  1.,\n",
       "         0.,  0.,  0.,  0.,  0.,  1.,  0.,  1.,  0.,  2.,  1.,  0.,  0.,\n",
       "         0.,  1.,  0.,  0.,  0.,  0.,  0.,  0.,  0.,  0.,  1.,  0.,  0.,\n",
       "         0.,  0.,  0.,  0.,  1.,  0.,  0.,  0.,  0.,  1.,  0.,  0.,  0.,\n",
       "         0.,  0.,  0.,  1.,  0.,  0.,  0.,  0.,  2.,  0.,  0.,  1.]),\n",
       " array([6.26426369, 6.26709697, 6.26993025, ..., 9.09187832, 9.0947116 ,\n",
       "        9.09754488]),\n",
       " <BarContainer object of 1000 artists>)"
      ]
     },
     "execution_count": 27,
     "metadata": {},
     "output_type": "execute_result"
    },
    {
     "data": {
      "image/png": "[encoded data removed]",
      "text/plain": [
       "<Figure size 640x480 with 1 Axes>"
      ]
     },
     "metadata": {},
     "output_type": "display_data"
    }
   ],
   "source": [
    "#Looking for natural splits in data\n",
    "plt.hist(filtered_df[\"price_sqm_log\"], bins=1000)"
   ]
  },
  {
   "cell_type": "code",
   "execution_count": 28,
   "metadata": {},
   "outputs": [
    {
     "data": {
      "text/plain": [
       "count    2707.000000\n",
       "mean        7.980302\n",
       "std         0.422895\n",
       "min         6.264264\n",
       "50%         7.988374\n",
       "60%         8.096398\n",
       "max         9.097545\n",
       "Name: price_sqm_log, dtype: float64"
      ]
     },
     "execution_count": 28,
     "metadata": {},
     "output_type": "execute_result"
    }
   ],
   "source": [
    "filtered_df[\"price_sqm_log\"].describe(percentiles=[0.6])\n"
   ]
  },
  {
   "cell_type": "code",
   "execution_count": 29,
   "metadata": {},
   "outputs": [
    {
     "data": {
      "text/plain": [
       "1       0\n",
       "3       0\n",
       "4       0\n",
       "5       0\n",
       "6       0\n",
       "       ..\n",
       "2751    1\n",
       "2752    0\n",
       "2753    0\n",
       "2754    0\n",
       "2755    1\n",
       "Name: price_cat_exp, Length: 2707, dtype: int64"
      ]
     },
     "execution_count": 29,
     "metadata": {},
     "output_type": "execute_result"
    }
   ],
   "source": [
    "filtered_df[\"price_cat_exp\"] = filtered_df[\"price_sqm_log\"].apply(lambda x: 1 if x > 8.095990 else 0)\n",
    "filtered_df[\"price_cat_exp\"]"
   ]
  },
  {
   "cell_type": "code",
   "execution_count": 30,
   "metadata": {},
   "outputs": [
    {
     "data": {
      "text/plain": [
       "Index(['Unnamed: 0', 'price', 'area', 'rooms', 'floor', 'floors', 'looked_by',\n",
       "       'latitude', 'longitude', 'saved', 'construction_year',\n",
       "       'renovation_year', 'price_sqm', 'type_Blokinis', 'type_Kita',\n",
       "       'type_Medinis', 'type_Monolitinis', 'type_Mūrinis', 'type_nan',\n",
       "       'mounting_Dalinė apdaila', 'mounting_Kita', 'mounting_Neįrengtas',\n",
       "       'mounting_Įrengtas', 'mounting_nan', 'energy_class_A',\n",
       "       'energy_class_A+', 'energy_class_A++', 'energy_class_B',\n",
       "       'energy_class_C', 'energy_class_D', 'energy_class_F', 'energy_class_G',\n",
       "       'energy_class_nan', 'aeroterminis', 'centrinis',\n",
       "       'centrinis kolektorinis', 'dujinis', 'elektra', 'geoterminis',\n",
       "       'kietu kuru', 'kita', 'saulės energija', 'skystu kuru', 'balkonas',\n",
       "       'drabužinė', 'none', 'palepe', 'pirtis', 'rūsys', 'sandėliukas',\n",
       "       'terasa', 'vieta_automobiliui', 'kameros', 'kodine_spyna', 'sargas',\n",
       "       'sarvuotos_durys', 'signalizacija', 'atskiras įėjimas', 'aukštos lubos',\n",
       "       'butas palėpėje', 'butas per kelis aukštus', 'buto dalis', 'internetas',\n",
       "       'kabelinė televizija', 'nauja elektros instaliacija',\n",
       "       'nauja kanalizacija', 'renovuotas namas', 'tualetas ir vonia atskirai',\n",
       "       'uždaras kiemas', 'virtuvė sujungta su kambariu', 'price_sqm_log',\n",
       "       'building_age', 'building_age_reno', 'lat_long', 'distance_to_center',\n",
       "       'price_cat_exp'],\n",
       "      dtype='object')"
      ]
     },
     "execution_count": 30,
     "metadata": {},
     "output_type": "execute_result"
    }
   ],
   "source": [
    "filtered_df.columns"
   ]
  },
  {
   "cell_type": "code",
   "execution_count": 31,
   "metadata": {},
   "outputs": [],
   "source": [
    "columns_to_use = ['area', 'rooms', 'floor', 'floors', 'looked_by',\n",
    "                  'saved', 'type_Blokinis', 'type_Kita','type_Medinis', \n",
    "                  'type_Monolitinis', 'type_Mūrinis', 'type_nan',\n",
    "                  'mounting_Dalinė apdaila', 'mounting_Kita', 'mounting_Neįrengtas',\n",
    "                  'mounting_Įrengtas', 'mounting_nan', 'energy_class_A',\n",
    "                  'energy_class_A+', 'energy_class_A++', 'energy_class_B',\n",
    "                  'energy_class_C', 'energy_class_D', 'energy_class_F', 'energy_class_G',       \n",
    "                  'energy_class_nan', 'aeroterminis', 'centrinis',       \n",
    "                  'centrinis kolektorinis', 'dujinis', 'elektra', 'geoterminis',       \n",
    "                  'kietu kuru', 'kita', 'saulės energija', 'skystu kuru', 'balkonas',       \n",
    "                  'drabužinė', 'none', 'palepe', 'pirtis', 'rūsys', 'sandėliukas',       \n",
    "                  'terasa', 'vieta_automobiliui', 'kameros', 'kodine_spyna', 'sargas',       \n",
    "                  'sarvuotos_durys', 'signalizacija', 'atskiras įėjimas', 'aukštos lubos',       \n",
    "                  'butas palėpėje', 'butas per kelis aukštus', 'buto dalis', 'internetas',       \n",
    "                  'kabelinė televizija', 'nauja elektros instaliacija',       \n",
    "                  'nauja kanalizacija', 'renovuotas namas', 'tualetas ir vonia atskirai',       \n",
    "                  'uždaras kiemas', 'virtuvė sujungta su kambariu',       \n",
    "                  'building_age', 'building_age_reno', 'distance_to_center']\n",
    "X = filtered_df.filter(columns_to_use)  \n",
    "y = filtered_df[\"price_cat_exp\"]\n",
    "X_train, X_test, y_train, y_test = train_test_split(X, y, test_size=0.2, random_state=42)"
   ]
  },
  {
   "cell_type": "code",
   "execution_count": 33,
   "metadata": {
    "scrolled": true
   },
   "outputs": [
    {
     "name": "stdout",
     "output_type": "stream",
     "text": [
      "Accuracy: 0.8487084870848709\n",
      "\n",
      "Confusion Matrix:\n",
      "[[299  36]\n",
      " [ 46 161]]\n",
      "\n",
      "Classification Report:\n",
      "              precision    recall  f1-score   support\n",
      "\n",
      "           0       0.87      0.89      0.88       335\n",
      "           1       0.82      0.78      0.80       207\n",
      "\n",
      "    accuracy                           0.85       542\n",
      "   macro avg       0.84      0.84      0.84       542\n",
      "weighted avg       0.85      0.85      0.85       542\n",
      "\n"
     ]
    }
   ],
   "source": [
    "model = LogisticRegression(random_state=42, max_iter=6000)\n",
    "\n",
    "model.fit(X_train, y_train)\n",
    "y_pred = model.predict(X_test)\n",
    "\n",
    "accuracy = accuracy_score(y_test, y_pred)\n",
    "confusion = confusion_matrix(y_test, y_pred)\n",
    "classification_rep = classification_report(y_test, y_pred)\n",
    "\n",
    "print(\"Accuracy:\", accuracy)\n",
    "print(\"\\nConfusion Matrix:\")\n",
    "print(confusion)\n",
    "print(\"\\nClassification Report:\")\n",
    "print(classification_rep)\n"
   ]
  },
  {
   "cell_type": "code",
   "execution_count": 34,
   "metadata": {},
   "outputs": [
    {
     "data": {
      "text/plain": [
       "count    2707.000000\n",
       "mean        7.980302\n",
       "std         0.422895\n",
       "min         6.264264\n",
       "50%         7.988374\n",
       "70%         8.213525\n",
       "max         9.097545\n",
       "Name: price_sqm_log, dtype: float64"
      ]
     },
     "execution_count": 34,
     "metadata": {},
     "output_type": "execute_result"
    }
   ],
   "source": [
    "filtered_df[\"price_sqm_log\"].describe(percentiles=[0.7])"
   ]
  },
  {
   "cell_type": "code",
   "execution_count": 35,
   "metadata": {},
   "outputs": [
    {
     "data": {
      "text/plain": [
       "1       0\n",
       "3       0\n",
       "4       0\n",
       "5       0\n",
       "6       0\n",
       "       ..\n",
       "2751    1\n",
       "2752    0\n",
       "2753    0\n",
       "2754    0\n",
       "2755    1\n",
       "Name: price_cat_exp, Length: 2707, dtype: int64"
      ]
     },
     "execution_count": 35,
     "metadata": {},
     "output_type": "execute_result"
    }
   ],
   "source": [
    "filtered_df[\"price_cat_exp\"] = filtered_df[\"price_sqm_log\"].apply(lambda x: 1 if x > 8.213525 else 0)\n",
    "filtered_df[\"price_cat_exp\"]"
   ]
  },
  {
   "cell_type": "code",
   "execution_count": 36,
   "metadata": {},
   "outputs": [
    {
     "data": {
      "text/plain": [
       "Index(['area', 'rooms', 'floor', 'floors', 'looked_by', 'saved',\n",
       "       'type_Blokinis', 'type_Kita', 'type_Medinis', 'type_Monolitinis',\n",
       "       'type_Mūrinis', 'type_nan', 'mounting_Dalinė apdaila', 'mounting_Kita',\n",
       "       'mounting_Neįrengtas', 'mounting_Įrengtas', 'mounting_nan',\n",
       "       'energy_class_A', 'energy_class_A+', 'energy_class_A++',\n",
       "       'energy_class_B', 'energy_class_C', 'energy_class_D', 'energy_class_F',\n",
       "       'energy_class_G', 'energy_class_nan', 'aeroterminis', 'centrinis',\n",
       "       'centrinis kolektorinis', 'dujinis', 'elektra', 'geoterminis',\n",
       "       'kietu kuru', 'kita', 'saulės energija', 'skystu kuru', 'balkonas',\n",
       "       'drabužinė', 'none', 'palepe', 'pirtis', 'rūsys', 'sandėliukas',\n",
       "       'terasa', 'vieta_automobiliui', 'kameros', 'kodine_spyna', 'sargas',\n",
       "       'sarvuotos_durys', 'signalizacija', 'atskiras įėjimas', 'aukštos lubos',\n",
       "       'butas palėpėje', 'butas per kelis aukštus', 'buto dalis', 'internetas',\n",
       "       'kabelinė televizija', 'nauja elektros instaliacija',\n",
       "       'nauja kanalizacija', 'renovuotas namas', 'tualetas ir vonia atskirai',\n",
       "       'uždaras kiemas', 'virtuvė sujungta su kambariu', 'building_age',\n",
       "       'building_age_reno', 'distance_to_center'],\n",
       "      dtype='object')"
      ]
     },
     "execution_count": 36,
     "metadata": {},
     "output_type": "execute_result"
    }
   ],
   "source": [
    "X = filtered_df.filter(columns_to_use)  \n",
    "y = filtered_df[\"price_cat_exp\"]\n",
    "X_train, X_test, y_train, y_test = train_test_split(X, y, test_size=0.2, random_state=42)\n",
    "X_train.columns"
   ]
  },
  {
   "cell_type": "code",
   "execution_count": 38,
   "metadata": {},
   "outputs": [
    {
     "name": "stdout",
     "output_type": "stream",
     "text": [
      "Accuracy: 0.8339483394833949\n",
      "\n",
      "Confusion Matrix:\n",
      "[[352  41]\n",
      " [ 49 100]]\n",
      "\n",
      "Classification Report:\n",
      "              precision    recall  f1-score   support\n",
      "\n",
      "           0       0.88      0.90      0.89       393\n",
      "           1       0.71      0.67      0.69       149\n",
      "\n",
      "    accuracy                           0.83       542\n",
      "   macro avg       0.79      0.78      0.79       542\n",
      "weighted avg       0.83      0.83      0.83       542\n",
      "\n"
     ]
    }
   ],
   "source": [
    "model = LogisticRegression(random_state=42, max_iter=9000)\n",
    "\n",
    "model.fit(X_train, y_train)\n",
    "y_pred = model.predict(X_test)\n",
    "\n",
    "accuracy = accuracy_score(y_test, y_pred)\n",
    "confusion = confusion_matrix(y_test, y_pred)\n",
    "classification_rep = classification_report(y_test, y_pred)\n",
    "\n",
    "print(\"Accuracy:\", accuracy)\n",
    "print(\"\\nConfusion Matrix:\")\n",
    "print(confusion)\n",
    "print(\"\\nClassification Report:\")\n",
    "print(classification_rep)\n"
   ]
  },
  {
   "cell_type": "code",
   "execution_count": 39,
   "metadata": {},
   "outputs": [],
   "source": [
    "columns_to_use = ['area', 'rooms', 'floor', 'floors', 'looked_by',\n",
    "                  'saved', 'type_Blokinis', 'type_Kita','type_Medinis', \n",
    "                  'type_Monolitinis', 'type_Mūrinis', 'type_nan',\n",
    "                  'mounting_Dalinė apdaila', 'mounting_Kita', 'mounting_Neįrengtas',\n",
    "                  'mounting_Įrengtas', 'mounting_nan', 'energy_class_A',\n",
    "                  'energy_class_A+', 'energy_class_A++', 'energy_class_B',\n",
    "                  'energy_class_C', 'energy_class_D', 'energy_class_F', 'energy_class_G',       \n",
    "                  'energy_class_nan', 'aeroterminis', 'centrinis',       \n",
    "                  'centrinis kolektorinis', 'dujinis', 'elektra', 'geoterminis',       \n",
    "                  'kietu kuru', 'kita', 'saulės energija', 'skystu kuru', 'balkonas',       \n",
    "                  'drabužinė', 'none', 'palepe', 'pirtis', 'rūsys', 'sandėliukas',       \n",
    "                  'terasa', 'vieta_automobiliui', 'kameros', 'kodine_spyna', 'sargas',       \n",
    "                  'sarvuotos_durys', 'signalizacija', 'atskiras įėjimas', 'aukštos lubos',       \n",
    "                  'butas palėpėje', 'butas per kelis aukštus', 'buto dalis', 'internetas',       \n",
    "                  'kabelinė televizija', 'nauja elektros instaliacija',       \n",
    "                  'nauja kanalizacija', 'renovuotas namas', 'tualetas ir vonia atskirai',       \n",
    "                  'uždaras kiemas', 'virtuvė sujungta su kambariu',       \n",
    "                  'building_age', 'building_age_reno']\n",
    "X = filtered_df.filter(columns_to_use)  \n",
    "y = filtered_df[\"price_cat_exp\"]\n",
    "X_train, X_test, y_train, y_test = train_test_split(X, y, test_size=0.2, random_state=42)"
   ]
  },
  {
   "cell_type": "code",
   "execution_count": 40,
   "metadata": {},
   "outputs": [
    {
     "name": "stdout",
     "output_type": "stream",
     "text": [
      "Accuracy: 0.7841328413284133\n",
      "\n",
      "Confusion Matrix:\n",
      "[[354  39]\n",
      " [ 78  71]]\n",
      "\n",
      "Classification Report:\n",
      "              precision    recall  f1-score   support\n",
      "\n",
      "           0       0.82      0.90      0.86       393\n",
      "           1       0.65      0.48      0.55       149\n",
      "\n",
      "    accuracy                           0.78       542\n",
      "   macro avg       0.73      0.69      0.70       542\n",
      "weighted avg       0.77      0.78      0.77       542\n",
      "\n"
     ]
    }
   ],
   "source": [
    "model = LogisticRegression(random_state=42, max_iter=9000)\n",
    "\n",
    "model.fit(X_train, y_train)\n",
    "y_pred = model.predict(X_test)\n",
    "\n",
    "accuracy = accuracy_score(y_test, y_pred)\n",
    "confusion = confusion_matrix(y_test, y_pred)\n",
    "classification_rep = classification_report(y_test, y_pred)\n",
    "\n",
    "print(\"Accuracy:\", accuracy)\n",
    "print(\"\\nConfusion Matrix:\")\n",
    "print(confusion)\n",
    "print(\"\\nClassification Report:\")\n",
    "print(classification_rep)\n"
   ]
  },
  {
   "cell_type": "code",
   "execution_count": null,
   "metadata": {},
   "outputs": [],
   "source": []
  }
 ],
 "metadata": {
  "kernelspec": {
   "display_name": "Python 3 (ipykernel)",
   "language": "python",
   "name": "python3"
  },
  "language_info": {
   "codemirror_mode": {
    "name": "ipython",
    "version": 3
   },
   "file_extension": ".py",
   "mimetype": "text/x-python",
   "name": "python",
   "nbconvert_exporter": "python",
   "pygments_lexer": "ipython3",
   "version": "3.9.17"
  }
 },
 "nbformat": 4,
 "nbformat_minor": 2
}
